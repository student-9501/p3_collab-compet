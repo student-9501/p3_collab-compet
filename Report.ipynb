{
 "cells": [
  {
   "cell_type": "code",
   "execution_count": 6,
   "id": "928dd54f-bbcf-45ae-834e-0849572d40c9",
   "metadata": {},
   "outputs": [
    {
     "name": "stderr",
     "output_type": "stream",
     "text": [
      "100%|████████████████████████████████████████████████████████████████████████████████████████████████████████████████████████████████████████████████████████████████████████████████████████████████████████████████████████| 22/22 [00:05<00:00,  3.89it/s]\n"
     ]
    }
   ],
   "source": [
    "import wandb\n",
    "import pandas as pd\n",
    "import seaborn as sns\n",
    "import matplotlib.pyplot as plt\n",
    "import os\n",
    "from itertools import islice\n",
    "from tqdm import tqdm\n",
    "\n",
    "wandb.login()\n",
    "\n",
    "wandb_entity = os.environ.get('WANDB_ENTITY')\n",
    "api = wandb.Api()\n",
    "api.flush()\n",
    "all_runs = api.runs(f'{wandb_entity}/tennis-bench', per_page=100)\n",
    "histories = []\n",
    "for i, run in enumerate(tqdm(all_runs)):\n",
    "    history = run.history(samples=2500)  # necessary or wandb will randomly sample\n",
    "    history = history[['_step', 'scores']]\n",
    "    history['run'] = run.id\n",
    "    histories.append(history)\n",
    "\n",
    "combined = pd.concat(histories)\n"
   ]
  },
  {
   "cell_type": "code",
   "execution_count": 8,
   "id": "2c6b59e8-5760-434a-ac34-e9ba9d69a886",
   "metadata": {},
   "outputs": [
    {
     "data": {
      "text/html": [
       "<div>\n",
       "<style scoped>\n",
       "    .dataframe tbody tr th:only-of-type {\n",
       "        vertical-align: middle;\n",
       "    }\n",
       "\n",
       "    .dataframe tbody tr th {\n",
       "        vertical-align: top;\n",
       "    }\n",
       "\n",
       "    .dataframe thead th {\n",
       "        text-align: right;\n",
       "    }\n",
       "</style>\n",
       "<table border=\"1\" class=\"dataframe\">\n",
       "  <thead>\n",
       "    <tr style=\"text-align: right;\">\n",
       "      <th></th>\n",
       "      <th>_step</th>\n",
       "      <th>scores</th>\n",
       "      <th>run</th>\n",
       "    </tr>\n",
       "  </thead>\n",
       "  <tbody>\n",
       "    <tr>\n",
       "      <th>0</th>\n",
       "      <td>0</td>\n",
       "      <td>0.090000</td>\n",
       "      <td>2ihxup0z</td>\n",
       "    </tr>\n",
       "    <tr>\n",
       "      <th>1</th>\n",
       "      <td>1</td>\n",
       "      <td>0.045000</td>\n",
       "      <td>2ihxup0z</td>\n",
       "    </tr>\n",
       "    <tr>\n",
       "      <th>2</th>\n",
       "      <td>2</td>\n",
       "      <td>0.063333</td>\n",
       "      <td>2ihxup0z</td>\n",
       "    </tr>\n",
       "    <tr>\n",
       "      <th>3</th>\n",
       "      <td>3</td>\n",
       "      <td>0.047500</td>\n",
       "      <td>2ihxup0z</td>\n",
       "    </tr>\n",
       "    <tr>\n",
       "      <th>4</th>\n",
       "      <td>4</td>\n",
       "      <td>0.038000</td>\n",
       "      <td>2ihxup0z</td>\n",
       "    </tr>\n",
       "    <tr>\n",
       "      <th>...</th>\n",
       "      <td>...</td>\n",
       "      <td>...</td>\n",
       "      <td>...</td>\n",
       "    </tr>\n",
       "    <tr>\n",
       "      <th>2495</th>\n",
       "      <td>2495</td>\n",
       "      <td>0.718400</td>\n",
       "      <td>2ie97ecl</td>\n",
       "    </tr>\n",
       "    <tr>\n",
       "      <th>2496</th>\n",
       "      <td>2496</td>\n",
       "      <td>0.710400</td>\n",
       "      <td>2ie97ecl</td>\n",
       "    </tr>\n",
       "    <tr>\n",
       "      <th>2497</th>\n",
       "      <td>2497</td>\n",
       "      <td>0.710400</td>\n",
       "      <td>2ie97ecl</td>\n",
       "    </tr>\n",
       "    <tr>\n",
       "      <th>2498</th>\n",
       "      <td>2498</td>\n",
       "      <td>0.710400</td>\n",
       "      <td>2ie97ecl</td>\n",
       "    </tr>\n",
       "    <tr>\n",
       "      <th>2499</th>\n",
       "      <td>2499</td>\n",
       "      <td>0.711400</td>\n",
       "      <td>2ie97ecl</td>\n",
       "    </tr>\n",
       "  </tbody>\n",
       "</table>\n",
       "<p>55000 rows × 3 columns</p>\n",
       "</div>"
      ],
      "text/plain": [
       "      _step    scores       run\n",
       "0         0  0.090000  2ihxup0z\n",
       "1         1  0.045000  2ihxup0z\n",
       "2         2  0.063333  2ihxup0z\n",
       "3         3  0.047500  2ihxup0z\n",
       "4         4  0.038000  2ihxup0z\n",
       "...     ...       ...       ...\n",
       "2495   2495  0.718400  2ie97ecl\n",
       "2496   2496  0.710400  2ie97ecl\n",
       "2497   2497  0.710400  2ie97ecl\n",
       "2498   2498  0.710400  2ie97ecl\n",
       "2499   2499  0.711400  2ie97ecl\n",
       "\n",
       "[55000 rows x 3 columns]"
      ]
     },
     "execution_count": 8,
     "metadata": {},
     "output_type": "execute_result"
    }
   ],
   "source": [
    "combined"
   ]
  },
  {
   "cell_type": "code",
   "execution_count": 9,
   "id": "46ecb5f1-b68e-4f55-a973-6162c2859261",
   "metadata": {},
   "outputs": [
    {
     "data": {
      "text/html": [
       "<div>\n",
       "<style scoped>\n",
       "    .dataframe tbody tr th:only-of-type {\n",
       "        vertical-align: middle;\n",
       "    }\n",
       "\n",
       "    .dataframe tbody tr th {\n",
       "        vertical-align: top;\n",
       "    }\n",
       "\n",
       "    .dataframe thead th {\n",
       "        text-align: right;\n",
       "    }\n",
       "</style>\n",
       "<table border=\"1\" class=\"dataframe\">\n",
       "  <thead>\n",
       "    <tr style=\"text-align: right;\">\n",
       "      <th></th>\n",
       "      <th>index</th>\n",
       "      <th>_step</th>\n",
       "      <th>scores</th>\n",
       "      <th>run</th>\n",
       "    </tr>\n",
       "  </thead>\n",
       "  <tbody>\n",
       "    <tr>\n",
       "      <th>0</th>\n",
       "      <td>0</td>\n",
       "      <td>0</td>\n",
       "      <td>0.090000</td>\n",
       "      <td>2ihxup0z</td>\n",
       "    </tr>\n",
       "    <tr>\n",
       "      <th>1</th>\n",
       "      <td>1</td>\n",
       "      <td>1</td>\n",
       "      <td>0.045000</td>\n",
       "      <td>2ihxup0z</td>\n",
       "    </tr>\n",
       "    <tr>\n",
       "      <th>2</th>\n",
       "      <td>2</td>\n",
       "      <td>2</td>\n",
       "      <td>0.063333</td>\n",
       "      <td>2ihxup0z</td>\n",
       "    </tr>\n",
       "    <tr>\n",
       "      <th>3</th>\n",
       "      <td>3</td>\n",
       "      <td>3</td>\n",
       "      <td>0.047500</td>\n",
       "      <td>2ihxup0z</td>\n",
       "    </tr>\n",
       "    <tr>\n",
       "      <th>4</th>\n",
       "      <td>4</td>\n",
       "      <td>4</td>\n",
       "      <td>0.038000</td>\n",
       "      <td>2ihxup0z</td>\n",
       "    </tr>\n",
       "    <tr>\n",
       "      <th>...</th>\n",
       "      <td>...</td>\n",
       "      <td>...</td>\n",
       "      <td>...</td>\n",
       "      <td>...</td>\n",
       "    </tr>\n",
       "    <tr>\n",
       "      <th>54995</th>\n",
       "      <td>2495</td>\n",
       "      <td>2495</td>\n",
       "      <td>0.718400</td>\n",
       "      <td>2ie97ecl</td>\n",
       "    </tr>\n",
       "    <tr>\n",
       "      <th>54996</th>\n",
       "      <td>2496</td>\n",
       "      <td>2496</td>\n",
       "      <td>0.710400</td>\n",
       "      <td>2ie97ecl</td>\n",
       "    </tr>\n",
       "    <tr>\n",
       "      <th>54997</th>\n",
       "      <td>2497</td>\n",
       "      <td>2497</td>\n",
       "      <td>0.710400</td>\n",
       "      <td>2ie97ecl</td>\n",
       "    </tr>\n",
       "    <tr>\n",
       "      <th>54998</th>\n",
       "      <td>2498</td>\n",
       "      <td>2498</td>\n",
       "      <td>0.710400</td>\n",
       "      <td>2ie97ecl</td>\n",
       "    </tr>\n",
       "    <tr>\n",
       "      <th>54999</th>\n",
       "      <td>2499</td>\n",
       "      <td>2499</td>\n",
       "      <td>0.711400</td>\n",
       "      <td>2ie97ecl</td>\n",
       "    </tr>\n",
       "  </tbody>\n",
       "</table>\n",
       "<p>55000 rows × 4 columns</p>\n",
       "</div>"
      ],
      "text/plain": [
       "       index  _step    scores       run\n",
       "0          0      0  0.090000  2ihxup0z\n",
       "1          1      1  0.045000  2ihxup0z\n",
       "2          2      2  0.063333  2ihxup0z\n",
       "3          3      3  0.047500  2ihxup0z\n",
       "4          4      4  0.038000  2ihxup0z\n",
       "...      ...    ...       ...       ...\n",
       "54995   2495   2495  0.718400  2ie97ecl\n",
       "54996   2496   2496  0.710400  2ie97ecl\n",
       "54997   2497   2497  0.710400  2ie97ecl\n",
       "54998   2498   2498  0.710400  2ie97ecl\n",
       "54999   2499   2499  0.711400  2ie97ecl\n",
       "\n",
       "[55000 rows x 4 columns]"
      ]
     },
     "execution_count": 9,
     "metadata": {},
     "output_type": "execute_result"
    }
   ],
   "source": [
    "combined.reset_index()"
   ]
  },
  {
   "cell_type": "markdown",
   "id": "178e79d6-8d3c-49a2-9387-aa4c8f57e0e8",
   "metadata": {},
   "source": [
    "# Introduction\n",
    "\n",
    "This project implements a deep reinforcement learning algorithm to solve a problem involving training a pair of agents to play tennis with each other.  The observation space consists of 24 variables corresponding to the position and velocity of the ball and racket. Two continuous actions are available, corresponding to movement toward (or away from) the net, and jumping.  The problem is considered solved when the algorithm manages to average a score over 0.5 for a period of 100 episodes."
   ]
  },
  {
   "cell_type": "code",
   "execution_count": null,
   "id": "5f595b36-78ce-4c72-8e7f-ffd8a3bce568",
   "metadata": {},
   "outputs": [],
   "source": []
  },
  {
   "cell_type": "markdown",
   "id": "c61a9466-53fb-4ff6-b42d-adc2343f999e",
   "metadata": {},
   "source": [
    "# The Problem\n",
    "\n",
    "## Reinforcement Learning\n",
    "\n",
    "The general idea behind reinforcement learning is this:\n",
    "\n",
    "* problem can be represented as a sequence of states, actions, and rewards ${s_0, a_0, r_1, s_1, a_1, \\ldots, s_n, a_n, r_n}$\n",
    "* a solution to a problem can be represented as a mapping of states $s\\in S$ to actions $a\\in A$, where each action results in a reward $r\\in R$ and a subsequent state $s'\\in S$\n",
    "* the best action(s) can be selected by estimating the expected long term reward received by performing a given action in a given state.\n",
    "* the long term reward can be shaped by applying a discount factor $\\lambda$ (in this implementation, 0.99) to encourage getting rewards sooner rather than later\n",
    "\n",
    "These ideas can be combined into a family of equations collectively referred to as Bellman equations, for example this one which expresses it in terms of states and actions:\n",
    "\n",
    "$$Q(s,a) = E\\left[ \\sum_{t=0}^\\infty \\lambda^t R_{t+n} |S=s_n, A=a_n\\right]$$"
   ]
  },
  {
   "cell_type": "markdown",
   "id": "2e4a1071-0646-4f4a-a7ac-c079c3f25eda",
   "metadata": {},
   "source": [
    "## Q Learning\n",
    "\n",
    "The main idea of Q learning is that if we can estimate the best possible average reward that can be gained from the state that follows our current state after performing a given action, we can use that estimate as a substitute for the rest of the infinite sum, which lets us use this equation instead.\n",
    "\n",
    "$$Q(s, a)=E\\left[R_t + \\lambda \\text{max} Q_b(S_{t+1}, b) | S_t=s, A_t=a \\right]$$\n",
    "\n",
    "To converge on this value, we randomly initialize an estimate of $Q(s, a)$ for all $s\\in S, a\\in A$, then sample the environment repeatedly to get tuples of (state, action, reward, next_state) and update our estimate of the value $Q(s, a)$ using this iterative algorithm. where $\\alpha$ represents the degree to which we shift our estimate towards the immediately perceived combination of immediate reward and estimated future reward:\n",
    "\n",
    "$$Q(s, a)=Q(s, a) + \\alpha\\left[r + \\lambda \\text{max}_{b} Q(s', b) - Q(s, a)\\right]$$\n",
    "\n",
    "this inner expression is frequently extracted and referred to as the TD-error:\n",
    "\n",
    "$$\\delta = r + \\lambda \\text{max}_{b} Q(s', b) - Q(s, a)$$\n",
    "\n",
    "In order to focus in on the best strategies in a large state space, we begin by exploring random choices and gradually adjust our behaviour to exploit the best known actions.  This is done by employing a strategy called $\\epsilon$-greedy, where $\\epsilon$ represents the percentage of time that a random action is selected, while $1-\\epsilon$ is the chance that we will exploit the best estimated action.  For this solution, we start with $\\epsilon=1$ and decay at a rate of $0.995$ per episode down to a minimum of $\\epsilon=0.1$.\n",
    "\n",
    "For relatively small state/action spaces, it's possible to represent them as a simple matrix of $S \\times A$.  This is commonly referred to as tabular Q learning.\n",
    "\n",
    "As the size of the state space can exceed the capacity of computers to store the entire space in its exact form, function approximation is used to calculate a representation.  Instead of storing the Q values in a matrix, instead a function $Q(s, a|\\theta)$ is learned, where $\\theta$ generally represents an array of weights which are learned using gradient descent.\n",
    "\n",
    "In the gradient descent process, the $\\alpha$ from the tabular system is essentially equivalent to the learning rate in the gradient descent optimizer."
   ]
  },
  {
   "cell_type": "markdown",
   "id": "2828e549-81df-4617-9ac3-13395631de1c",
   "metadata": {},
   "source": [
    "## Deep Deterministic Policy Gradients\n",
    "\n",
    "Environments with continuous action spaces pose new problems.  Since the number of possible actions is infinite, it's no longer feasible to try to estimate the Q values for each possible action.  DDPG extends regular Q learning by training two separate estimators (sometimes with some shared weights) to learn the best action $a$ (referred to as the Actor) as well as $\\text{max}_a Q(a)$ (referred to as the Critic).  Additionally, like in DQN, target networks are used to improve stability.\n",
    "\n",
    "The two estimators interact such that:\n",
    "\n",
    "The actor $Actor(s)$ predicts an action based on state\n",
    "\n",
    "The critic $Critic(s, a)$ predicts a Q value based on state and action\n",
    "\n",
    "The critic improves itself in much the same way that a regular DQN works using gradient descent to zero in on a good estimate of $Q(s,a)$.  By using the action as an input to the critic network it structures the problem of choosing the best action as a differentiable function of the critic network which directly generates a reward estimate allowing improvement through gradient ascent."
   ]
  },
  {
   "cell_type": "markdown",
   "id": "c8999a37-012f-44ca-802b-dc2a76b6ecec",
   "metadata": {},
   "source": [
    "### Critic\n",
    "\n",
    "At each learning step, the critic improves itself by taking an experience tuple s,a,r,s' and calculating:\n",
    "\n",
    "$$a' = \\text{Actor}_\\text{local}(s)$$\n",
    "$$q_\\text{local} = r + \\text{Critic}_\\text{local}(s', a')$$\n",
    "\n",
    "Then the target network is used to estimate the current $\\text{max}_a Q(s, a)$\n",
    "\n",
    "$$q_\\text{target} = \\text{Critic}_\\text{target}(s, a)$$\n",
    "\n",
    "and the mean squared error between $q_\\text{local}$ and $q_\\text{target}$ is used to update the local network, resulting in a model that can more accurately estimate the long term reward from taking a given action."
   ]
  },
  {
   "cell_type": "markdown",
   "id": "50ffff0c-c2ec-4273-a7de-c644571d23b9",
   "metadata": {},
   "source": [
    "### Actor\n",
    "\n",
    "The predicted action from the actor network can be used as an input to the critic network for the starting state.  As this predicts the long term cumulative reward $R$ for following this action, we can improve the actor's prediction by backpropagating along the gradient in the direction that locally improves the critic's predicted value.\n",
    "\n",
    "$$\\Delta R=\\Delta \\text{Critic}_\\text{local}\\left(s, \\text{Actor}_\\text{local}(s)\\right)$$"
   ]
  },
  {
   "cell_type": "markdown",
   "id": "9c8fbef6-2272-4475-bc39-eabcc8a9c9f2",
   "metadata": {},
   "source": [
    "Both the actor and critic target models are updating using soft updates, where after each round of learning a fraction of the weights are transferred from the local network to the target."
   ]
  },
  {
   "cell_type": "markdown",
   "id": "c8ba5655-ae68-4a19-8ab2-9d8e955683c0",
   "metadata": {},
   "source": [
    "## Exploration\n",
    "\n",
    "With DQN, exploration is achieved through $\\epsilon$-greedy strategies.  Since the Actor network outputs a deterministic estimate of the best predicted action, random noise is added to the actions during training.  The original paper suggested using Ornsteun-Uhlenbeck process generated noise, however experimentation on this particular problem seems to indicate that simple Gaussian noise performs better and is less complicated.\n",
    "\n",
    "Experimenting with various degrees of constant random noise (both Gaussian and Ornsteun-Uhlenbeck) it appeared that learning was highly unstable, and while it could at points solve the problem, it was prone to catastrophic forgetting and subsequent degradation to a totally non-functional policy.  A solution that appears relatively stable is adding a decay rate 'eps_decay' to the random noise to allow for early exploration but focusing in on a good solution later."
   ]
  },
  {
   "cell_type": "markdown",
   "id": "b759b410-d14d-4f14-b7c5-8f5d7791da05",
   "metadata": {},
   "source": [
    "## Experience Replay\n",
    "\n",
    "Like DQN, DDPG uses experience replay.  With experience replay, the agent gathers tuples (experiences) of $(s, a, r, s')$ and stores them in a fixed length FIFO queue (in this implementation, up to 1000000 experiences).  Periodically (in this implementation, every 20 actions), the agent samples a subset of experiences from this buffer (in this implentation, a batch size of 128 experiences) and applies the iterative update algorithm described above to move the estimator closer to an optimal strategy.  This solves two main issues:\n",
    "\n",
    "First of all, the cost of gathering samples can be prohibitive.  By reusing samples several times, we extract more value from each individual experience.  In this algorithm, a sample is reused on average 128 times.\n",
    "\n",
    "Second, a sequence of actions that are experienced by an agent are likely to be highly correlated, which if used in the order they are found will result in heavily biased learning that can focus in on a certain part of the state/action space and cause catastrophic forgetting of lessons learned from distantly prior experiences.  By introducing an element of random selection in the batch selection, this produces less correlated training data and correspondingly better learning."
   ]
  },
  {
   "cell_type": "markdown",
   "id": "2880b50b-d68b-469d-b662-c86118c543f3",
   "metadata": {},
   "source": [
    "# Hyperparameters\n",
    "\n",
    "*    n_episodes (int) = 2500: number of training episodes\n",
    "*    max_t (int) = 1000: maximum number of timesteps per episode\n",
    "*    noise_stddev (float) = 1: the standard deviation of the gaussian noise to add to the actions for exploration purposes\n",
    "*    buffer_size (int) = 1000000: maximum size of the replay buffer\n",
    "*    hidden_size_1 (int) = 256: the size of the first hidden layer\n",
    "*    hidden_size_2 (int) = 512: the size of the second hidden layer, less the action size in the case of the critic\n",
    "*    learn_every (int) = 20: how often to apply the iterative update algorithm, in steps\n",
    "*    learn_cycles (int) = 20: the number of mini batches to learn every `learn_every` steps\n",
    "*    batch_size (int) = 128: the size of the mini batches\n",
    "*    tau (float) = 1e-3: the rate of copying the live network weights into the target network as part of the soft update\n",
    "*    actor_lr (float) = 1e-4: learning rate for actor's optimizer\n",
    "*    critic_lr (float) = 1e-3: learning rate for the critic's optimizer\n",
    "*    gamma (float) = 0.99: discount factor for transfering future rewards back down the chain, normally denoted $\\lambda$\n",
    "*    eps_decay (float) = 0.9995: the rate at which epsilon decays per episode\n",
    "*    eps_start (float) = 0.8: the starting value for epsilon\n"
   ]
  },
  {
   "cell_type": "markdown",
   "id": "695d1e74-0150-46ea-9ff5-c846d7a224f0",
   "metadata": {},
   "source": [
    "# Model architecture\n",
    "\n",
    "The two models make use of entirely separate networks.  The actor model computes an action vector based on the state using a two layer network using ReLU non-linearities and a tanh layer at the end to implicitly constrain the outputs to the desired range of $(-1, 1)$.  The critic model takes a state, passes that through a single layer before concatenating the action vector and passing it through another layers with no additional processing at the end as the Q values are not bounded."
   ]
  },
  {
   "cell_type": "markdown",
   "id": "913578f7-3297-4bf7-ad9e-6040c2ced136",
   "metadata": {},
   "source": [
    "## Actor Model"
   ]
  },
  {
   "cell_type": "code",
   "execution_count": null,
   "id": "722843ed-3d69-4958-af51-4121428ef3ce",
   "metadata": {
    "tags": []
   },
   "outputs": [],
   "source": [
    "class ActorModel(nn.Module):\n",
    "    def __init__(self, state_size, action_size, seed, hidden_size_1=128, hidden_size_2=256):\n",
    "        \"\"\"\n",
    "        :param state_size (int):\n",
    "        :param action_size (int):\n",
    "        :param seed (int): random seed\n",
    "        :param hidden_size_1 (int):\n",
    "        :param hidden_size_2 (int):\n",
    "        \"\"\"\n",
    "        super().__init__()\n",
    "        self.seed = torch.manual_seed(seed)\n",
    "        self.fc1 = nn.Linear(state_size, hidden_size_1)\n",
    "        self.fc2 = nn.Linear(hidden_size_1, hidden_size_2)\n",
    "        self.fc3 = nn.Linear(hidden_size_2, action_size)\n",
    "        self.batchnorm_1 = nn.BatchNorm1d(hidden_size_1)\n",
    "\n",
    "    def forward(self, state):\n",
    "        x = F.relu(self.batchnorm_1(self.fc1(state)))\n",
    "        x = F.relu(self.fc2(x))\n",
    "        return F.tanh(self.fc3(x))\n"
   ]
  },
  {
   "cell_type": "markdown",
   "id": "24aafbbb-ebf6-4a9f-9427-5a6b21b14594",
   "metadata": {},
   "source": [
    "## Critic Model"
   ]
  },
  {
   "cell_type": "code",
   "execution_count": null,
   "id": "cc717df1-ff9b-47e2-b62e-a3338e36e0b3",
   "metadata": {},
   "outputs": [],
   "source": [
    "class CriticModel(nn.Module):\n",
    "    def __init__(self, state_size, action_size, seed, hidden_size_1=128, hidden_size_2=256):\n",
    "        \"\"\"\n",
    "        :param state_size (int):\n",
    "        :param action_size (int):\n",
    "        :param seed (int): random seed\n",
    "        :param hidden_size_1 (int):\n",
    "        :param hidden_size_2 (int):\n",
    "        \"\"\"\n",
    "        super().__init__()\n",
    "        self.seed = torch.manual_seed(seed)\n",
    "        self.fc1 = nn.Linear(state_size, hidden_size_1)\n",
    "        self.fc2 = nn.Linear(hidden_size_1+action_size, hidden_size_2)\n",
    "        self.fc3 = nn.Linear(hidden_size_2, 1)\n",
    "        self.batchnorm_1 = nn.BatchNorm1d(hidden_size_1)\n",
    "\n",
    "    def forward(self, state, action):\n",
    "        xs = F.relu(self.batchnorm_1(self.fc1(state)))\n",
    "        x = torch.cat((xs, action), dim=1)\n",
    "        x = F.relu(self.fc2(x))\n",
    "        x = self.fc3(x)\n",
    "        return x\n"
   ]
  },
  {
   "cell_type": "markdown",
   "id": "af322155-c03e-46d5-b1a1-ed1b1754cbb8",
   "metadata": {
    "tags": []
   },
   "source": [
    "# Results\n",
    "\n",
    "I trained the agent over 22 episodes and found that on average it solved the environment in approximately 1500 episodes.  The error band in the graph below is the standard deviation in score."
   ]
  },
  {
   "cell_type": "code",
   "execution_count": 11,
   "id": "b71f0376-410c-4460-ab7a-ab6baf6d9536",
   "metadata": {
    "tags": []
   },
   "outputs": [
    {
     "name": "stderr",
     "output_type": "stream",
     "text": [
     ]
    },
    {
     "data": {
      "text/plain": [
       "<matplotlib.legend.Legend at 0x7f97902bbeb0>"
      ]
     },
     "execution_count": 11,
     "metadata": {},
     "output_type": "execute_result"
    },
    {
     "data": {
      "image/png": "[encoded data removed]",
      "text/plain": [
       "<Figure size 1152x720 with 1 Axes>"
      ]
     },
     "metadata": {},
     "output_type": "display_data"
    }
   ],
   "source": [
    "import seaborn as sns\n",
    "sns.set(rc={'figure.figsize': (16, 10)})\n",
    "sns.set_theme(style='darkgrid')\n",
    "sns.lineplot(data=combined.reset_index(), x='_step', y='scores', color='green')\n",
    "plt.legend(labels=[\n",
    "    'score',\n",
    "])"
   ]
  },
  {
   "cell_type": "markdown",
   "id": "c5a65ba3-b326-4d2c-847c-8f4ec3b50f7b",
   "metadata": {},
   "source": [
    "# Ideas for Future Work\n",
    "\n",
    "## Hyperparameter Tuning\n",
    "\n",
    "The most likely target for easy gains is more hyperparameter tuning, particularly in the network size parameters.\n",
    "\n",
    "## Prioritized Experience Replay\n",
    "\n",
    "Prioritized Experience Replay uses the estimated difference between the current network's model and the targets to focus the replay buffer on areas of greatest potential improvement.\n",
    "\n",
    "## Sharing weights between actor and critic\n",
    "\n",
    "Currently the two networks are entirely separate, however the critic and actor networks are identical in structure in their first layer, and could probably benefit from sharing weights between them.\n",
    "\n",
    "## Combining both agents into a single model\n",
    "\n",
    "Currently the agents act without knowledge of the other agent's behaviour.  Probably explicitly modeling them as a cooperating team could have benefits."
   ]
  },
  {
   "cell_type": "code",
   "execution_count": null,
   "id": "7a8bffc2-b96d-4a4a-b36c-4f8a14689cf9",
   "metadata": {},
   "outputs": [],
   "source": []
  }
 ],
 "metadata": {
  "kernelspec": {
   "display_name": "Python 3 (ipykernel)",
   "language": "python",
   "name": "python3"
  },
  "language_info": {
   "codemirror_mode": {
    "name": "ipython",
    "version": 3
   },
   "file_extension": ".py",
   "mimetype": "text/x-python",
   "name": "python",
   "nbconvert_exporter": "python",
   "pygments_lexer": "ipython3",
   "version": "3.9.7"
  }
 },
 "nbformat": 4,
 "nbformat_minor": 5
}
